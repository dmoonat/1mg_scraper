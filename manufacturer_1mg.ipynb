{
 "cells": [
  {
   "cell_type": "code",
   "execution_count": 44,
   "metadata": {},
   "outputs": [],
   "source": [
    "f1=open('maunfacturer.csv','r')"
   ]
  },
  {
   "cell_type": "code",
   "execution_count": 45,
   "metadata": {},
   "outputs": [],
   "source": [
    "manu=[]\n",
    "for x in f1:\n",
    "    #print(j.strip('\\n'))\n",
    "    manu.append(x.strip('\\n'))"
   ]
  },
  {
   "cell_type": "code",
   "execution_count": 48,
   "metadata": {},
   "outputs": [
    {
     "data": {
      "text/plain": [
       "'https://www.1mg.com/manufacturer/bluewaterresearch-76191'"
      ]
     },
     "execution_count": 48,
     "metadata": {},
     "output_type": "execute_result"
    }
   ],
   "source": [
    "len(manu)\n",
    "manu[592]"
   ]
  },
  {
   "cell_type": "code",
   "execution_count": 115,
   "metadata": {},
   "outputs": [],
   "source": [
    "import selenium\n",
    "from selenium import webdriver\n",
    "driver=webdriver.Chrome(r'C:\\Users\\user\\AppData\\Local\\Programs\\Python\\Python35\\Scripts\\chromedriver.exe')\n",
    "#drugs_link=[]"
   ]
  },
  {
   "cell_type": "code",
   "execution_count": 100,
   "metadata": {
    "scrolled": true
   },
   "outputs": [],
   "source": [
    "ssl=manu[3128:]\n",
    "\n",
    "for k in ssl:\n",
    "    driver.get(k)\n",
    "    #time.sleep(1)\n",
    "    while True:\n",
    "        try:\n",
    "            driver.find_element_by_xpath('//*[@id=\"content-container\"]/div/div/div/div[2]/div[2]/a').click()\n",
    "        except:\n",
    "            break\n",
    "            \n",
    "    try:\n",
    "        z=driver.find_element_by_xpath('//*[@id=\"srchRslt\"]')\n",
    "        le=z.text.split('\\n')\n",
    "        number=len(le)+1\n",
    "    except:\n",
    "        pass\n",
    "    #drugs_link=[]\n",
    "    if number==2:\n",
    "        try:\n",
    "            drugs=driver.find_element_by_xpath('//*[@id=\"srchRslt\"]/div/a').get_attribute('href')\n",
    "            drugs_link.append(drugs)\n",
    "        except:\n",
    "            pass\n",
    "    else:\n",
    "        for i in range(1,number):\n",
    "            drugs=driver.find_element_by_xpath('//*[@id=\"srchRslt\"]/div['+str(i)+']/a').get_attribute('href')\n",
    "            drugs_link.append(drugs)"
   ]
  },
  {
   "cell_type": "code",
   "execution_count": 114,
   "metadata": {},
   "outputs": [],
   "source": [
    "import csv\n",
    "with open('drugs.csv','a',encoding='utf-8',newline='') as f:\n",
    "    head=['drugs_link']\n",
    "    writer=csv.DictWriter(f,fieldnames=head)\n",
    "    writer.writeheader()\n",
    "    for i in drugs_link:\n",
    "        writer.writerow({'drugs_link':i})"
   ]
  },
  {
   "cell_type": "code",
   "execution_count": 50,
   "metadata": {},
   "outputs": [
    {
     "data": {
      "text/plain": [
       "7814"
      ]
     },
     "execution_count": 50,
     "metadata": {},
     "output_type": "execute_result"
    }
   ],
   "source": [
    "len(drugs_link)"
   ]
  },
  {
   "cell_type": "code",
   "execution_count": 67,
   "metadata": {},
   "outputs": [
    {
     "data": {
      "text/plain": [
       "'https://www.1mg.com/manufacturer/jagsonpal-pharmaceuticals-ltd-73160'"
      ]
     },
     "execution_count": 67,
     "metadata": {},
     "output_type": "execute_result"
    }
   ],
   "source": [
    "manu[1499]"
   ]
  },
  {
   "cell_type": "code",
   "execution_count": 76,
   "metadata": {},
   "outputs": [
    {
     "data": {
      "text/plain": [
       "'https://www.1mg.com/manufacturer/lyka-labs-74176'"
      ]
     },
     "execution_count": 76,
     "metadata": {},
     "output_type": "execute_result"
    }
   ],
   "source": [
    "manu[1749]"
   ]
  },
  {
   "cell_type": "code",
   "execution_count": 75,
   "metadata": {},
   "outputs": [
    {
     "data": {
      "text/plain": [
       "26819"
      ]
     },
     "execution_count": 75,
     "metadata": {},
     "output_type": "execute_result"
    }
   ],
   "source": [
    "len(drugs_link)"
   ]
  },
  {
   "cell_type": "code",
   "execution_count": 78,
   "metadata": {},
   "outputs": [
    {
     "data": {
      "text/plain": [
       "34174"
      ]
     },
     "execution_count": 78,
     "metadata": {},
     "output_type": "execute_result"
    }
   ],
   "source": [
    "len(drugs_link)"
   ]
  },
  {
   "cell_type": "code",
   "execution_count": 84,
   "metadata": {},
   "outputs": [
    {
     "data": {
      "text/plain": [
       "49197"
      ]
     },
     "execution_count": 84,
     "metadata": {},
     "output_type": "execute_result"
    }
   ],
   "source": [
    "len(drugs_link)"
   ]
  },
  {
   "cell_type": "code",
   "execution_count": 90,
   "metadata": {},
   "outputs": [
    {
     "data": {
      "text/plain": [
       "'https://www.1mg.com/manufacturer/rishab-healthcare-pvt.-ltd.-74721'"
      ]
     },
     "execution_count": 90,
     "metadata": {},
     "output_type": "execute_result"
    }
   ],
   "source": [
    "manu[2680]"
   ]
  },
  {
   "cell_type": "code",
   "execution_count": 92,
   "metadata": {},
   "outputs": [
    {
     "data": {
      "text/plain": [
       "63558"
      ]
     },
     "execution_count": 92,
     "metadata": {},
     "output_type": "execute_result"
    }
   ],
   "source": [
    "len(drugs_link)"
   ]
  },
  {
   "cell_type": "code",
   "execution_count": 99,
   "metadata": {},
   "outputs": [
    {
     "data": {
      "text/plain": [
       "'https://www.1mg.com/manufacturer/syncom-healthcare-limited-75874'"
      ]
     },
     "execution_count": 99,
     "metadata": {},
     "output_type": "execute_result"
    }
   ],
   "source": [
    "manu[3130]"
   ]
  },
  {
   "cell_type": "code",
   "execution_count": 113,
   "metadata": {},
   "outputs": [
    {
     "data": {
      "text/plain": [
       "97323"
      ]
     },
     "execution_count": 113,
     "metadata": {},
     "output_type": "execute_result"
    }
   ],
   "source": [
    "len(drugs_link)+9646"
   ]
  },
  {
   "cell_type": "code",
   "execution_count": 118,
   "metadata": {},
   "outputs": [
    {
     "data": {
      "text/plain": [
       "97323"
      ]
     },
     "execution_count": 118,
     "metadata": {},
     "output_type": "execute_result"
    }
   ],
   "source": [
    "len(drugs_link)+9646"
   ]
  },
  {
   "cell_type": "code",
   "execution_count": 110,
   "metadata": {},
   "outputs": [],
   "source": [
    "Drugs1=[]\n",
    "for i in drugs_link:\n",
    "    if 'Tablet' in i:\n",
    "        Drugs1.append(i)"
   ]
  },
  {
   "cell_type": "code",
   "execution_count": 104,
   "metadata": {},
   "outputs": [
    {
     "data": {
      "text/plain": [
       "40031"
      ]
     },
     "execution_count": 104,
     "metadata": {},
     "output_type": "execute_result"
    }
   ],
   "source": [
    "len(Drugs)"
   ]
  },
  {
   "cell_type": "code",
   "execution_count": 107,
   "metadata": {},
   "outputs": [
    {
     "data": {
      "text/plain": [
       "['https://www.1mg.com/drugs/baraclude-0.5mg-tablet-7454',\n",
       " 'https://www.1mg.com/drugs/baraclude-1mg-tablet-7455',\n",
       " 'https://www.1mg.com/drugs/eliquis-2.5mg-tablet-138240',\n",
       " 'https://www.1mg.com/drugs/eliquis-5mg-tablet-172700',\n",
       " 'https://www.1mg.com/drugs/sprycel-20mg-tablet-358787',\n",
       " 'https://www.1mg.com/drugs/sprycel-50mg-tablet-232434',\n",
       " 'https://www.1mg.com/drugs/sprycel-70mg-tablet-232600',\n",
       " 'https://www.1mg.com/otc/max-plus-k2-tablet-otc400996',\n",
       " 'https://www.1mg.com/drugs/spasdrot-m-80mg-250mg-tablet-341329',\n",
       " 'https://www.1mg.com/drugs/dulcolax-10mg-tablet-410542',\n",
       " 'https://www.1mg.com/drugs/dulcolax-5mg-tablet-337710',\n",
       " 'https://www.1mg.com/drugs/jardiance-10mg-tablet-322717',\n",
       " 'https://www.1mg.com/drugs/jardiance-25mg-tablet-322816',\n",
       " 'https://www.1mg.com/drugs/jardiance-met-12.5mg-1000mg-tablet-429199',\n",
       " 'https://www.1mg.com/drugs/jardiance-met-12.5mg-500mg-tablet-429212',\n",
       " 'https://www.1mg.com/drugs/jardiance-met-5mg-500mg-tablet-429559',\n",
       " 'https://www.1mg.com/drugs/micardis-tablet-118283',\n",
       " 'https://www.1mg.com/drugs/trajenta-5mg-tablet-126729',\n",
       " 'https://www.1mg.com/drugs/trajenta-duo-2.5mg-1000mg-tablet-354694',\n",
       " 'https://www.1mg.com/drugs/trajenta-duo-2.5mg-500mg-tablet-132543',\n",
       " 'https://www.1mg.com/drugs/trajenta-duo-2.5mg-850mg-tablet-132544',\n",
       " 'https://www.1mg.com/drugs/xovoltib-20mg-tablet-357151',\n",
       " 'https://www.1mg.com/drugs/xovoltib-30mg-tablet-357152',\n",
       " 'https://www.1mg.com/drugs/xovoltib-40mg-tablet-357153',\n",
       " 'https://www.1mg.com/drugs/xovoltib-50mg-tablet-357904',\n",
       " 'https://www.1mg.com/drugs/alci-5mg-tablet-290660',\n",
       " 'https://www.1mg.com/drugs/alvox-250mg-tablet-303026',\n",
       " 'https://www.1mg.com/drugs/alvox-500mg-tablet-227117',\n",
       " 'https://www.1mg.com/drugs/apihist-tablet-205218',\n",
       " 'https://www.1mg.com/drugs/azinova-250mg-tablet-311289',\n",
       " 'https://www.1mg.com/drugs/azinova-500mg-tablet-47208',\n",
       " 'https://www.1mg.com/drugs/bitamox-kid-250mg-tablet-289148',\n",
       " 'https://www.1mg.com/drugs/bitaquine-ds-500mg-tablet-236412',\n",
       " 'https://www.1mg.com/drugs/cetrifed-d-5-mg-60-mg-tablet-316874',\n",
       " 'https://www.1mg.com/drugs/chymutrip-tablet-262472',\n",
       " 'https://www.1mg.com/drugs/chymutrip-tablet-262218',\n",
       " 'https://www.1mg.com/drugs/clomax-v3-200mg-tablet-vt-230379',\n",
       " 'https://www.1mg.com/drugs/clomax-v7-100mg-tablet-vt-140388',\n",
       " 'https://www.1mg.com/drugs/dilotin-mps-250-mg-300-mg-25-mg-tablet-302801',\n",
       " 'https://www.1mg.com/drugs/dosclav-250-mg-125-mg-tablet-266019',\n",
       " 'https://www.1mg.com/drugs/dosclav-500-mg-125-mg-tablet-311839',\n",
       " 'https://www.1mg.com/drugs/ensera-10mg-tablet-225151',\n",
       " 'https://www.1mg.com/drugs/ensera-5mg-tablet-236094',\n",
       " 'https://www.1mg.com/drugs/ensera-forte-10mg-tablet-228232',\n",
       " 'https://www.1mg.com/drugs/fluvin-125mg-tablet-269230',\n",
       " 'https://www.1mg.com/drugs/fluvin-forte-250mg-tablet-208181',\n",
       " 'https://www.1mg.com/drugs/malasulf-25-mg-500-mg-tablet-236228',\n",
       " 'https://www.1mg.com/drugs/malasulf-forte-37.5mg-750mg-tablet-236520',\n",
       " 'https://www.1mg.com/otc/milkcal-forte-tablet-otc254588',\n",
       " 'https://www.1mg.com/otc/milkcal-tablet-otc252163',\n",
       " 'https://www.1mg.com/drugs/oflxcin-100mg-tablet-298042',\n",
       " 'https://www.1mg.com/drugs/alpradon-0.25mg-tablet-354840',\n",
       " 'https://www.1mg.com/drugs/alpradon-0.5mg-tablet-354841',\n",
       " 'https://www.1mg.com/drugs/alpradon-0.5mg-tablet-sr-354846',\n",
       " 'https://www.1mg.com/drugs/alpradon-f-0.25mg-20mg-tablet-355345',\n",
       " 'https://www.1mg.com/drugs/alpradon-p-tablet-352001',\n",
       " 'https://www.1mg.com/drugs/amirex-100mg-tablet-357247',\n",
       " 'https://www.1mg.com/drugs/amirex-200mg-tablet-357248',\n",
       " 'https://www.1mg.com/drugs/amirex-50mg-tablet-357246',\n",
       " 'https://www.1mg.com/drugs/arpidon-10mg-tablet-356383',\n",
       " 'https://www.1mg.com/drugs/arpidon-15mg-tablet-356384',\n",
       " 'https://www.1mg.com/drugs/arpidon-5mg-tablet-356376',\n",
       " 'https://www.1mg.com/drugs/atom-25mg-tablet-402773',\n",
       " 'https://www.1mg.com/drugs/baclodon-10mg-tablet-356531',\n",
       " 'https://www.1mg.com/drugs/betagem-10mg-tablet-351987',\n",
       " 'https://www.1mg.com/drugs/betagem-20mg-tablet-351988',\n",
       " 'https://www.1mg.com/drugs/blozam-10mg-tablet-358444',\n",
       " 'https://www.1mg.com/drugs/blozam-20mg-tablet-358445',\n",
       " 'https://www.1mg.com/drugs/blozam-5mg-tablet-358443',\n",
       " 'https://www.1mg.com/drugs/bolanz-10mg-tablet-355803',\n",
       " 'https://www.1mg.com/drugs/bolanz-15mg-tablet-355804',\n",
       " 'https://www.1mg.com/drugs/bolanz-2.5mg-tablet-355801',\n",
       " 'https://www.1mg.com/drugs/bolanz-20mg-tablet-355805',\n",
       " 'https://www.1mg.com/drugs/bolanz-5mg-tablet-355802',\n",
       " 'https://www.1mg.com/drugs/bolanz-plus-20mg-5mg-tablet-355999',\n",
       " 'https://www.1mg.com/drugs/bolanz-rd-10mg-tablet-355955',\n",
       " 'https://www.1mg.com/drugs/bolanz-rd-5mg-tablet-355954',\n",
       " 'https://www.1mg.com/drugs/bondol-5mg-tablet-356061',\n",
       " 'https://www.1mg.com/drugs/bonzil-10mg-tablet-402740',\n",
       " 'https://www.1mg.com/drugs/bonzil-5mg-tablet-402739']"
      ]
     },
     "execution_count": 107,
     "metadata": {},
     "output_type": "execute_result"
    }
   ],
   "source": [
    "Drugs[:80]"
   ]
  },
  {
   "cell_type": "code",
   "execution_count": 111,
   "metadata": {},
   "outputs": [
    {
     "data": {
      "text/plain": [
       "0"
      ]
     },
     "execution_count": 111,
     "metadata": {},
     "output_type": "execute_result"
    }
   ],
   "source": [
    "len(Drugs1)"
   ]
  },
  {
   "cell_type": "code",
   "execution_count": 117,
   "metadata": {},
   "outputs": [],
   "source": [
    "a=drugs_link[:5]"
   ]
  },
  {
   "cell_type": "code",
   "execution_count": 121,
   "metadata": {},
   "outputs": [],
   "source": [
    "with open('medicine.csv','a',encoding='utf-8',newline='') as f:\n",
    "    head=['tablet_name','company_name','generic_name','use_of_medicine']\n",
    "    writer=csv.DictWriter(f,fieldnames=head)\n",
    "    writer.writeheader()\n",
    "    for ii in a:\n",
    "        if 'tablet' in ii:\n",
    "            driver.get(ii)\n",
    "            time.sleep(1)\n",
    "            try:\n",
    "                title1=driver.find_elements_by_xpath('//*[@id=\"top_row\"]/div/div/div[1]/div/div[1]')\n",
    "                useoftab=driver.find_elements_by_xpath('//*[@id=\"top_row\"]/div/div/div[1]/div/div[2]/div[1]/div')\n",
    "                i=title1[0].text.split('\\n')\n",
    "                j=useoftab[0].text\n",
    "                writer.writerow({'tablet_name':i[0],'company_name':i[1],'generic_name':i[3],'use_of_medicine':j})\n",
    "\n",
    "            except:\n",
    "                pass\n",
    "        else:\n",
    "            pass"
   ]
  },
  {
   "cell_type": "code",
   "execution_count": null,
   "metadata": {},
   "outputs": [],
   "source": []
  }
 ],
 "metadata": {
  "kernelspec": {
   "display_name": "Python 3",
   "language": "python",
   "name": "python3"
  },
  "language_info": {
   "codemirror_mode": {
    "name": "ipython",
    "version": 3
   },
   "file_extension": ".py",
   "mimetype": "text/x-python",
   "name": "python",
   "nbconvert_exporter": "python",
   "pygments_lexer": "ipython3",
   "version": "3.6.4"
  }
 },
 "nbformat": 4,
 "nbformat_minor": 2
}
