{
 "cells": [
  {
   "cell_type": "code",
   "execution_count": null,
   "metadata": {},
   "outputs": [],
   "source": [
    "import csv\n",
    "with open('medicine.csv','a',encoding='utf-8',newline='') as f:\n",
    "    head=['tablet_name','company_name','generic_name','use_of_medicine']\n",
    "    writer=csv.DictWriter(f,fieldnames=head)\n",
    "    writer.writeheader()\n",
    "    for ii in drugs_link:\n",
    "        if 'tablet' in ii:\n",
    "            driver.get(ii)\n",
    "            time.sleep(1)\n",
    "            try:\n",
    "                title1=driver.find_elements_by_xpath('//*[@id=\"top_row\"]/div/div/div[1]/div/div[1]')\n",
    "                useoftab=driver.find_elements_by_xpath('//*[@id=\"top_row\"]/div/div/div[1]/div/div[2]/div[1]/div')\n",
    "                i=title1[0].text.split('\\n')\n",
    "                j=useoftab[0].text\n",
    "                writer.writerow({'tablet_name':i[0],'company_name':i[1],'generic_name':i[3],'use_of_medicine':j})\n",
    "\n",
    "            except:\n",
    "                pass\n",
    "        else:\n",
    "            pass"
   ]
  },
  {
   "cell_type": "code",
   "execution_count": null,
   "metadata": {},
   "outputs": [],
   "source": [
    "import selenium\n",
    "from selenium import webdriver\n",
    "driver=webdriver.Chrome(r'C:\\Users\\user\\AppData\\Local\\Programs\\Python\\Python35\\Scripts\\chromedriver.exe')"
   ]
  },
  {
   "cell_type": "code",
   "execution_count": null,
   "metadata": {},
   "outputs": [],
   "source": []
  }
 ],
 "metadata": {
  "kernelspec": {
   "display_name": "Python 3",
   "language": "python",
   "name": "python3"
  },
  "language_info": {
   "codemirror_mode": {
    "name": "ipython",
    "version": 3
   },
   "file_extension": ".py",
   "mimetype": "text/x-python",
   "name": "python",
   "nbconvert_exporter": "python",
   "pygments_lexer": "ipython3",
   "version": "3.6.4"
  }
 },
 "nbformat": 4,
 "nbformat_minor": 2
}
